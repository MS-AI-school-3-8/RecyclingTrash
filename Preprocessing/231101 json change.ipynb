{
 "cells": [
  {
   "cell_type": "markdown",
   "id": "d2dcf32c-f8a0-435b-9a57-df35a8411cac",
   "metadata": {},
   "source": [
    "## dataset_trash batch 폴더별 data --> batch_num.json 변환하기"
   ]
  },
  {
   "cell_type": "markdown",
   "id": "8d536561",
   "metadata": {},
   "source": [
    "#### 예시 : data.json * 44폴더 --> batch_01.json ~ batch_44.json "
   ]
  },
  {
   "cell_type": "code",
   "execution_count": 1,
   "id": "b40ce16c-f547-4898-9276-ef7ac64a4e61",
   "metadata": {},
   "outputs": [
    {
     "name": "stdout",
     "output_type": "stream",
     "text": [
      "Batch 01 처리 완료\n",
      "Batch 02 처리 완료\n",
      "Batch 03 처리 완료\n",
      "Batch 04 처리 완료\n",
      "Batch 05 처리 완료\n",
      "Batch 06 처리 완료\n",
      "Batch 07 처리 완료\n",
      "Batch 08 처리 완료\n",
      "Batch 09 처리 완료\n",
      "Batch 10 처리 완료\n",
      "Batch 11 처리 완료\n",
      "Batch 12 처리 완료\n",
      "Batch 13 처리 완료\n",
      "Batch 14 처리 완료\n",
      "Batch 15 처리 완료\n",
      "Batch 16 처리 완료\n",
      "Batch 17 처리 완료\n",
      "Batch 18 처리 완료\n",
      "Batch 19 처리 완료\n",
      "Batch 20 처리 완료\n",
      "Batch 21 처리 완료\n",
      "Batch 22 처리 완료\n",
      "Batch 23 처리 완료\n",
      "Batch 24 처리 완료\n",
      "Batch 25 처리 완료\n",
      "Batch 26 처리 완료\n",
      "Batch 27 처리 완료\n",
      "Batch 28 처리 완료\n",
      "Batch 29 처리 완료\n",
      "Batch 30 처리 완료\n",
      "Batch 31 처리 완료\n",
      "Batch 32 처리 완료\n",
      "Batch 33 처리 완료\n",
      "Batch 34 처리 완료\n",
      "Batch 35 처리 완료\n",
      "Batch 36 처리 완료\n",
      "Batch 37 처리 완료\n",
      "Batch 38 처리 완료\n",
      "Batch 39 처리 완료\n",
      "Batch 40 처리 완료\n",
      "Batch 41 처리 완료\n",
      "Batch 42 처리 완료\n",
      "Batch 43 처리 완료\n",
      "Batch 44 처리 완료\n",
      "작업 완료\n"
     ]
    }
   ],
   "source": [
    "import os\n",
    "import json\n",
    "\n",
    "# 1. 루트 디렉토리 설정\n",
    "root_folder =  r'C:\\dataset\\trash-data_dataset'  # 루트 디렉토리 경로를 적절하게 변경하세요.\n",
    "\n",
    "# 2. 새로운 폴더를 만들어서 수정된 JSON 파일을 저장할 경로 설정\n",
    "output_folder = r'C:\\dataset\\new_json'  # 수정된 JSON 파일을 저장할 폴더를 지정하세요.\n",
    "\n",
    "# 폴더가 없다면 새로 생성\n",
    "os.makedirs(output_folder, exist_ok=True)\n",
    "\n",
    "# 3. 각 배치폴더에 대한 루프\n",
    "id_offset = 0  # 초기 ID 오프셋을 0으로 설정\n",
    "for batch_num in range(1, 45):  # 배치 폴더 번호 범위에 맞게 수정하세요.\n",
    "\n",
    "    batch_folder = f\"batch_{batch_num:02}/\"\n",
    "    json_file_path = os.path.join(root_folder, batch_folder, \"data.json\")\n",
    "\n",
    "    # 4. JSON 파일 열기\n",
    "    with open(json_file_path, \"r\") as json_file:\n",
    "        data = json.load(json_file)\n",
    "\n",
    "    # 5. 데이터 수정\n",
    "    for image_info in data[\"images\"]:\n",
    "        image_info[\"id\"] += id_offset\n",
    "\n",
    "    for anno_info in data[\"annotations\"]:\n",
    "        anno_info[\"id\"] += id_offset\n",
    "        anno_info[\"image_id\"] += id_offset\n",
    "\n",
    "    # 6. 수정된 데이터를 새로운 JSON 파일에 저장\n",
    "    new_json_file_path = os.path.join(output_folder, f\"batch_{batch_num:02}.json\")\n",
    "    with open(new_json_file_path, \"w\") as json_file:\n",
    "        json.dump(data, json_file, indent=4)\n",
    "\n",
    "    # ID 오프셋을 500씩 증가\n",
    "    id_offset += 500\n",
    "\n",
    "    print(f\"Batch {batch_num:02} 처리 완료\")  # 진행 상황을 출력합니다.\n",
    "\n",
    "print(\"작업 완료\")  # 모든 배치 폴더 처리가 완료되면 메시지를 출력합니다.\n"
   ]
  },
  {
   "cell_type": "code",
   "execution_count": null,
   "id": "1c9cbdde-9dfe-4ee5-8271-255e8be43b01",
   "metadata": {},
   "outputs": [],
   "source": []
  }
 ],
 "metadata": {
  "kernelspec": {
   "display_name": "Python 3 (ipykernel)",
   "language": "python",
   "name": "python3"
  },
  "language_info": {
   "codemirror_mode": {
    "name": "ipython",
    "version": 3
   },
   "file_extension": ".py",
   "mimetype": "text/x-python",
   "name": "python",
   "nbconvert_exporter": "python",
   "pygments_lexer": "ipython3",
   "version": "3.10.9"
  }
 },
 "nbformat": 4,
 "nbformat_minor": 5
}
