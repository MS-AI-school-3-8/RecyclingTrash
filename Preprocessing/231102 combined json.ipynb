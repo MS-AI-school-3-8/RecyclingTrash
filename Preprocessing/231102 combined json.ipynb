{
 "cells": [
  {
   "cell_type": "markdown",
   "id": "bfe835d2",
   "metadata": {},
   "source": [
    "## new_json 폴더별 json 파일 --> 하나의 json 으로 병합하기"
   ]
  },
  {
   "cell_type": "markdown",
   "id": "6990dea7",
   "metadata": {},
   "source": [
    "### 예시 : batch_01~nn.json --> combined.json"
   ]
  },
  {
   "cell_type": "markdown",
   "id": "f82883b4",
   "metadata": {},
   "source": [
    "### [train 먼저 병합 테스트]"
   ]
  },
  {
   "cell_type": "code",
   "execution_count": 5,
   "id": "041ac08a",
   "metadata": {},
   "outputs": [],
   "source": [
    "import os\n",
    "import json\n",
    "\n",
    "# JSON 파일이 있는 폴더 경로\n",
    "#folder_path = 'C:/Users/jenia/Python/new_json'\n",
    "folder_path = r'C:\\dataset\\new_json'\n",
    "\n",
    "# 중복을 피할 \"info\", \"licenses\", \"categories\" 데이터\n",
    "info_data = None\n",
    "licenses_data = None\n",
    "categories_data = None\n",
    "\n",
    "# 모든 JSON 파일을 병합할 리스트\n",
    "combined_data = {\n",
    "    \"info\": info_data,\n",
    "    \"licenses\": licenses_data,\n",
    "    \"categories\": categories_data,\n",
    "    \"images\": [],\n",
    "    \"annotations\": []\n",
    "}\n",
    "\n",
    "# 'batch_01.json'부터 'batch_34.json'까지의 파일을 읽어서 데이터를 추가합니다.\n",
    "for i in range(1, 35):\n",
    "    filename = f'batch_{i:02d}.json'\n",
    "    file_path = os.path.join(folder_path, filename)\n",
    "\n",
    "    if os.path.isfile(file_path):\n",
    "        with open(file_path, 'r') as file:\n",
    "            data = json.load(file)\n",
    "\n",
    "            # \"info\", \"licenses\", \"categories\" 데이터를 최초 1회만 저장\n",
    "            if not info_data:\n",
    "                info_data = data.get(\"info\")\n",
    "                licenses_data = data.get(\"licenses\")\n",
    "                categories_data = data.get(\"categories\")\n",
    "                combined_data[\"info\"] = info_data\n",
    "                combined_data[\"licenses\"] = licenses_data\n",
    "                combined_data[\"categories\"] = categories_data\n",
    "\n",
    "            # images 및 annotations 데이터 병합\n",
    "            combined_data[\"images\"].extend(data.get(\"images\"))\n",
    "            combined_data[\"annotations\"].extend(data.get(\"annotations\"))\n",
    "\n",
    "# 병합된 데이터를 JSON 파일에 저장하거나 원하는 형식으로 출력합니다.\n",
    "output_file_path = os.path.join(folder_path, 'train.json')\n",
    "with open(output_file_path, 'w') as output_file:\n",
    "    json.dump(combined_data, output_file, indent=4)  # indent 매개변수를 설정하여 들여쓰기와 줄바꿈을 추가\n"
   ]
  },
  {
   "cell_type": "markdown",
   "id": "e40f0079",
   "metadata": {},
   "source": [
    "### [train, valid, test 나눠서 병합하기]\n",
    "#### train (80%)  : batch_01_0000 ~ batch_34_0499 / \"image_id\" :        0 ~ 16999\n",
    "#### valid (10%) : batch_35_0000 ~ batch_40_0499 / \"image_id\" : 17000 ~ 19999\n",
    "#### test (10%) : batch_41_0000 ~ batch_44_0317 / \"image_id\" : 20000 ~ 21817"
   ]
  },
  {
   "cell_type": "code",
   "execution_count": 3,
   "id": "b57915cb",
   "metadata": {},
   "outputs": [],
   "source": [
    "import os\n",
    "import json\n",
    "\n",
    "def combine_json_files(folder_path, output_filename, start_batch, end_batch):\n",
    "    combined_data = {\n",
    "        \"info\": None,\n",
    "        \"licenses\": None,\n",
    "        \"categories\": None,\n",
    "        \"images\": [],\n",
    "        \"annotations\": []\n",
    "    }\n",
    "\n",
    "    for i in range(start_batch, end_batch + 1):\n",
    "        filename = f'batch_{i:02d}.json'\n",
    "        file_path = os.path.join(folder_path, filename)\n",
    "\n",
    "        if os.path.isfile(file_path):\n",
    "            with open(file_path, 'r') as file:\n",
    "                data = json.load(file)\n",
    "\n",
    "                if not combined_data[\"info\"]:\n",
    "                    combined_data[\"info\"] = data.get(\"info\")\n",
    "                    combined_data[\"licenses\"] = data.get(\"licenses\")\n",
    "                    combined_data[\"categories\"] = data.get(\"categories\")\n",
    "\n",
    "                combined_data[\"images\"].extend(data.get(\"images\"))\n",
    "                combined_data[\"annotations\"].extend(data.get(\"annotations\"))\n",
    "\n",
    "    output_path = os.path.join(folder_path, output_filename)\n",
    "    with open(output_path, 'w') as output_file:\n",
    "        json.dump(combined_data, output_file, indent=4)\n",
    "\n",
    "#folder_path = 'C:/Users/jenia/Python/new_json'\n",
    "folder_path = r'C:\\dataset\\new_json'\n",
    "\n",
    "# 범위를 수정하여 파일을 \"train,\" \"valid,\" \"test\"로 나눔\n",
    "combine_json_files(folder_path, '2combined_train.json', 1, 34)\n",
    "combine_json_files(folder_path, '2combined_valid.json', 35, 40)\n",
    "combine_json_files(folder_path, '2combined_test.json', 41, 44)\n"
   ]
  },
  {
   "cell_type": "code",
   "execution_count": null,
   "id": "c92b9b6c",
   "metadata": {},
   "outputs": [],
   "source": []
  }
 ],
 "metadata": {
  "kernelspec": {
   "display_name": "Python 3 (ipykernel)",
   "language": "python",
   "name": "python3"
  },
  "language_info": {
   "codemirror_mode": {
    "name": "ipython",
    "version": 3
   },
   "file_extension": ".py",
   "mimetype": "text/x-python",
   "name": "python",
   "nbconvert_exporter": "python",
   "pygments_lexer": "ipython3",
   "version": "3.10.9"
  }
 },
 "nbformat": 4,
 "nbformat_minor": 5
}
