{
 "cells": [
  {
   "cell_type": "markdown",
   "id": "25f15ca3-b8e9-4bf0-a395-83799615c90d",
   "metadata": {},
   "source": [
    "## trash dataset batch 폴더 44개 -> 파일 이름 수정하여 1개의 data 폴더로 합치기"
   ]
  },
  {
   "attachments": {},
   "cell_type": "markdown",
   "id": "76f0b89a-a39f-484f-9298-8cf3e8f5aba5",
   "metadata": {},
   "source": [
    "#### 예시 : 0001~0499파일 * 44개 batch폴더 -> batch_01_0001 ~ batch_44_0499파일 * data폴더 "
   ]
  },
  {
   "cell_type": "code",
   "execution_count": 1,
   "id": "023371d2-0bce-4795-9433-5d7b807af7d2",
   "metadata": {},
   "outputs": [],
   "source": [
    "import os\n",
    "import shutil"
   ]
  },
  {
   "cell_type": "code",
   "execution_count": 3,
   "id": "9e6f9163-9649-4f61-ac70-9753ac7eb36e",
   "metadata": {},
   "outputs": [],
   "source": [
    "# 원래 네이버커넥트 다운받은 파일들이 들어있는 batch 폴더 경로\n",
    "source_folder = r'C:\\dataset\\trash-data_dataset'\n",
    "\n",
    "# 전체를 하나의 폴더로 합칠 폴더 경로\n",
    "destination_folder = r'C:\\dataset\\data'\n",
    "\n",
    "# 전체를 하나의 폴더로 합칠 폴더를 생성\n",
    "os.makedirs(destination_folder, exist_ok=True)"
   ]
  },
  {
   "cell_type": "code",
   "execution_count": null,
   "id": "f7f7f6fb-7103-4711-a2fe-3523708dc885",
   "metadata": {},
   "outputs": [],
   "source": [
    "# batch 폴더를 순회하며 파일을 이동 및 이름 변경\n",
    "for folder_num in range(1, 45):\n",
    "    source_folder_path = os.path.join(source_folder, f'batch_{folder_num:02d}')\n",
    "    for file_num in range(500):\n",
    "        source_file = '{:04d}.jpg'.format(file_num)\n",
    "        source_path = os.path.join(source_folder_path, source_file)\n",
    "        new_file_name = 'batch_{:02d}_{:04d}.jpg'.format(folder_num, file_num)\n",
    "        destination_path = os.path.join(destination_folder, new_file_name)\n",
    "\n",
    "        # 파일이 존재하면 복사, 그렇지 않으면 무시\n",
    "        if os.path.exists(source_path):\n",
    "            os.makedirs(os.path.dirname(destination_path), exist_ok=True)\n",
    "            shutil.copy(source_path, destination_path)"
   ]
  },
  {
   "cell_type": "code",
   "execution_count": null,
   "id": "576e4ca9-d82c-4628-939c-91454d4e74b9",
   "metadata": {},
   "outputs": [],
   "source": []
  }
 ],
 "metadata": {
  "kernelspec": {
   "display_name": "Python 3 (ipykernel)",
   "language": "python",
   "name": "python3"
  },
  "language_info": {
   "codemirror_mode": {
    "name": "ipython",
    "version": 3
   },
   "file_extension": ".py",
   "mimetype": "text/x-python",
   "name": "python",
   "nbconvert_exporter": "python",
   "pygments_lexer": "ipython3",
   "version": "3.8.16"
  }
 },
 "nbformat": 4,
 "nbformat_minor": 5
}
